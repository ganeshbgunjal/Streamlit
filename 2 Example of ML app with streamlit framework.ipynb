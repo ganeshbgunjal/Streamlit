{
 "cells": [
  {
   "cell_type": "code",
   "execution_count": null,
   "id": "0915969d-3f53-4abc-964f-c66c1d2b5981",
   "metadata": {},
   "outputs": [],
   "source": [
    "import streamlit as st\n",
    "import pandas as pd\n",
    "from sklearn.datasets import load_iris\n",
    "from sklearn.ensemble import RandomForestClassifier\n",
    "from sklearn.utils import Bunch\n",
    "\n",
    "\n",
    "@st.cache_data\n",
    "def load_data():\n",
    "    iris: Bunch = load_iris()\n",
    "    df = pd.DataFrame(iris.data, columns=iris.feature_names)\n",
    "    df['species'] = iris.target\n",
    "    return df, iris.target_names\n",
    "\n",
    "df,target_name = load_data()\n",
    "\n",
    "model = RandomForestClassifier()\n",
    "model.fit(df.iloc[:,:-1],df['species'])\n",
    "\n",
    "st.sidebar.title(\"Input Features\")\n",
    "sepal_length = st.sidebar.slider(\"Sepal length\", float(df['sepal length (cm)'].min()), float(df['sepal length (cm)'].max()))\n",
    "sepal_width = st.sidebar.slider(\"Sepal width\", float(df['sepal width (cm)'].min()), float(df['sepal width (cm)'].max()))\n",
    "petal_length = st.sidebar.slider(\"Petal length\", float(df['petal length (cm)'].min()), float(df['petal length (cm)'].max()))\n",
    "petal_width = st.sidebar.slider(\"Petal width\", float(df['petal width (cm)'].min()), float(df['petal width (cm)'].max()))\n",
    "\n",
    "input_data = pd.DataFrame([[sepal_length, sepal_width, petal_length, petal_width]],\n",
    "                          columns=df.columns[:-1])\n",
    "\n",
    "#Prediction:\n",
    "prediction = model.predict(input_data)\n",
    "predicted_species = target_name[prediction[0]]\n",
    "\n",
    "\n",
    "st.write('Prediction:')\n",
    "st.success(f'The predicted species is: {predicted_species}')\n"
   ]
  },
  {
   "cell_type": "markdown",
   "id": "12da4c93-23a0-4ad9-8978-695a3f8ef6e9",
   "metadata": {},
   "source": [
    "#### This is code for this video. we executed this code in vscode environment. it executed successfully there. just for folder and video flow, created this file here. "
   ]
  },
  {
   "cell_type": "code",
   "execution_count": null,
   "id": "c06e5642-13ad-4b33-ba33-9ec7c5cd120c",
   "metadata": {},
   "outputs": [],
   "source": []
  }
 ],
 "metadata": {
  "kernelspec": {
   "display_name": "Python 3 (ipykernel)",
   "language": "python",
   "name": "python3"
  },
  "language_info": {
   "codemirror_mode": {
    "name": "ipython",
    "version": 3
   },
   "file_extension": ".py",
   "mimetype": "text/x-python",
   "name": "python",
   "nbconvert_exporter": "python",
   "pygments_lexer": "ipython3",
   "version": "3.13.5"
  }
 },
 "nbformat": 4,
 "nbformat_minor": 5
}
