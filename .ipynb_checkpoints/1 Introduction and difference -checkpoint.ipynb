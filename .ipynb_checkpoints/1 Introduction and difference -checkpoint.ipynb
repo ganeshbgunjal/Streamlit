{
 "cells": [
  {
   "cell_type": "markdown",
   "id": "17238443-a0b1-4b31-9697-3da6a7bcfe67",
   "metadata": {},
   "source": [
    "### Difference between Flask and Streamlit:--"
   ]
  },
  {
   "cell_type": "markdown",
   "id": "119507f5-8a59-4dc9-a002-69a6bccca25d",
   "metadata": {},
   "source": [
    "🔹 Flask\n",
    "\n",
    "Type: Web framework (general-purpose, backend-focused).\n",
    "\n",
    "Use case: Build complete web applications (APIs, dashboards, websites).\n",
    "\n",
    "Coding style: You need to define routes (@app.route), handle HTTP methods (GET, POST), manage templates (HTML, CSS, JS).\n",
    "\n",
    "Flexibility: Very flexible — you can make anything, but you must code a lot (frontend + backend logic).\n",
    "\n",
    "Best for:\n",
    "\n",
    "Full web apps\n",
    "\n",
    "REST APIs\n",
    "\n",
    "Applications where you want total control over design"
   ]
  },
  {
   "cell_type": "markdown",
   "id": "f7e07695-2783-42b5-ae6e-7728972d9b7d",
   "metadata": {},
   "source": [
    "🔹 Streamlit\n",
    "\n",
    "Type: Data app framework (frontend + backend combined).\n",
    "\n",
    "Use case: Quickly build interactive data dashboards, ML model demos, visualizations.\n",
    "\n",
    "Coding style: Just write Python code (st.write(), st.line_chart(), st.button()). No need for HTML/CSS/JS.\n",
    "\n",
    "Flexibility: Limited compared to Flask — you can’t design a full website, but you can prototype apps in minutes.\n",
    "\n",
    "Best for:\n",
    "\n",
    "ML model deployment (quick demo)\n",
    "\n",
    "Data visualization apps\n",
    "\n",
    "Dashboards"
   ]
  },
  {
   "cell_type": "markdown",
   "id": "533cf241-014d-4b1d-a9c9-1733bc32e85b",
   "metadata": {},
   "source": [
    "## Streamlit:--"
   ]
  },
  {
   "cell_type": "markdown",
   "id": "3d82439c-6ebf-4b2c-8a46-6dd9550cff38",
   "metadata": {},
   "source": [
    "Its a open source app framework for ML and data science projects. It allows you to create beautiful web applications for your machine learning data science projects with simple python scripts. here you dont need HTML and CSS knowledge."
   ]
  },
  {
   "cell_type": "code",
   "execution_count": 1,
   "id": "a03284f2-ed13-4464-ad8f-7e152cbedf4d",
   "metadata": {},
   "outputs": [
    {
     "name": "stderr",
     "output_type": "stream",
     "text": [
      "2025-08-28 18:15:34.568 WARNING streamlit.runtime.scriptrunner_utils.script_run_context: Thread 'MainThread': missing ScriptRunContext! This warning can be ignored when running in bare mode.\n",
      "2025-08-28 18:15:35.490 \n",
      "  \u001b[33m\u001b[1mWarning:\u001b[0m to view this Streamlit app on a browser, run it with the following\n",
      "  command:\n",
      "\n",
      "    streamlit run C:\\Users\\Administrator\\anaconda3\\Lib\\site-packages\\ipykernel_launcher.py [ARGUMENTS]\n",
      "2025-08-28 18:15:35.490 Thread 'MainThread': missing ScriptRunContext! This warning can be ignored when running in bare mode.\n",
      "2025-08-28 18:15:35.491 Thread 'MainThread': missing ScriptRunContext! This warning can be ignored when running in bare mode.\n",
      "2025-08-28 18:15:35.492 Thread 'MainThread': missing ScriptRunContext! This warning can be ignored when running in bare mode.\n",
      "2025-08-28 18:15:35.493 Thread 'MainThread': missing ScriptRunContext! This warning can be ignored when running in bare mode.\n",
      "2025-08-28 18:15:35.497 Thread 'MainThread': missing ScriptRunContext! This warning can be ignored when running in bare mode.\n",
      "2025-08-28 18:15:35.498 Session state does not function when running a script without `streamlit run`\n",
      "2025-08-28 18:15:35.499 Thread 'MainThread': missing ScriptRunContext! This warning can be ignored when running in bare mode.\n",
      "2025-08-28 18:15:35.500 Thread 'MainThread': missing ScriptRunContext! This warning can be ignored when running in bare mode.\n",
      "2025-08-28 18:15:35.501 Thread 'MainThread': missing ScriptRunContext! This warning can be ignored when running in bare mode.\n",
      "2025-08-28 18:15:35.502 Thread 'MainThread': missing ScriptRunContext! This warning can be ignored when running in bare mode.\n",
      "2025-08-28 18:15:35.505 Thread 'MainThread': missing ScriptRunContext! This warning can be ignored when running in bare mode.\n",
      "2025-08-28 18:15:35.506 Thread 'MainThread': missing ScriptRunContext! This warning can be ignored when running in bare mode.\n",
      "2025-08-28 18:15:35.507 Thread 'MainThread': missing ScriptRunContext! This warning can be ignored when running in bare mode.\n",
      "2025-08-28 18:15:35.509 Thread 'MainThread': missing ScriptRunContext! This warning can be ignored when running in bare mode.\n",
      "2025-08-28 18:15:35.510 Thread 'MainThread': missing ScriptRunContext! This warning can be ignored when running in bare mode.\n",
      "2025-08-28 18:15:35.512 Thread 'MainThread': missing ScriptRunContext! This warning can be ignored when running in bare mode.\n",
      "2025-08-28 18:15:35.516 Thread 'MainThread': missing ScriptRunContext! This warning can be ignored when running in bare mode.\n",
      "2025-08-28 18:15:35.520 Thread 'MainThread': missing ScriptRunContext! This warning can be ignored when running in bare mode.\n",
      "2025-08-28 18:15:35.523 Thread 'MainThread': missing ScriptRunContext! This warning can be ignored when running in bare mode.\n",
      "2025-08-28 18:15:35.526 Thread 'MainThread': missing ScriptRunContext! This warning can be ignored when running in bare mode.\n",
      "2025-08-28 18:15:35.528 Thread 'MainThread': missing ScriptRunContext! This warning can be ignored when running in bare mode.\n",
      "2025-08-28 18:15:35.532 Thread 'MainThread': missing ScriptRunContext! This warning can be ignored when running in bare mode.\n",
      "2025-08-28 18:15:35.533 Thread 'MainThread': missing ScriptRunContext! This warning can be ignored when running in bare mode.\n",
      "2025-08-28 18:15:35.535 Thread 'MainThread': missing ScriptRunContext! This warning can be ignored when running in bare mode.\n",
      "2025-08-28 18:15:35.537 Thread 'MainThread': missing ScriptRunContext! This warning can be ignored when running in bare mode.\n",
      "2025-08-28 18:15:35.539 Thread 'MainThread': missing ScriptRunContext! This warning can be ignored when running in bare mode.\n",
      "2025-08-28 18:15:35.541 Thread 'MainThread': missing ScriptRunContext! This warning can be ignored when running in bare mode.\n",
      "2025-08-28 18:15:35.543 Thread 'MainThread': missing ScriptRunContext! This warning can be ignored when running in bare mode.\n",
      "2025-08-28 18:15:35.547 Thread 'MainThread': missing ScriptRunContext! This warning can be ignored when running in bare mode.\n",
      "2025-08-28 18:15:35.644 Thread 'MainThread': missing ScriptRunContext! This warning can be ignored when running in bare mode.\n",
      "2025-08-28 18:15:35.645 Thread 'MainThread': missing ScriptRunContext! This warning can be ignored when running in bare mode.\n",
      "2025-08-28 18:15:35.645 Thread 'MainThread': missing ScriptRunContext! This warning can be ignored when running in bare mode.\n",
      "2025-08-28 18:15:35.648 Thread 'MainThread': missing ScriptRunContext! This warning can be ignored when running in bare mode.\n",
      "2025-08-28 18:15:35.650 Thread 'MainThread': missing ScriptRunContext! This warning can be ignored when running in bare mode.\n",
      "2025-08-28 18:15:35.651 Thread 'MainThread': missing ScriptRunContext! This warning can be ignored when running in bare mode.\n",
      "2025-08-28 18:15:35.652 Thread 'MainThread': missing ScriptRunContext! This warning can be ignored when running in bare mode.\n"
     ]
    }
   ],
   "source": [
    "import streamlit as st\n",
    "import pandas as pd\n",
    "\n",
    "st.title('Application form')\n",
    "\n",
    "name = st.text_input('Enter your name: ')\n",
    "surname = st.text_input('Enter your surname: ')\n",
    "\n",
    "age = st.slider('Select your age: ',0,100,20)    #20 means minimum age is 20.\n",
    "options = ['Python','Java','C++','Javascript']\n",
    "choice = st.selectbox('Choose your favorite language: ',options)\n",
    "\n",
    "if name and surname:\n",
    "    st.write(f'Hello {name} {surname}!!')\n",
    "st.write(f'You age is: {age}')\n",
    "st.write(f'You choose: {choice} as your favorite language')\n",
    "\n",
    "#create and show any dataframe:\n",
    "data = {\n",
    "    'Name' : ['Ganesh','brad','pitt','sany'],\n",
    "    'Age' : [33,28,31,33],\n",
    "    'City' : ['Bangalore','Nashik','Pune','Nashik']\n",
    "}\n",
    "\n",
    "df = pd.DataFrame(data)\n",
    "df.to_csv('sampledata.csv')\n",
    "st.write(df)\n",
    "\n",
    "#upload button:\n",
    "uploaded_file = st.file_uploader('Upload a csv file:',type='csv')\n",
    "if uploaded_file is not None:\n",
    "    df = pd.read_csv(uploaded_file)\n",
    "    st.write(df)\n"
   ]
  },
  {
   "cell_type": "markdown",
   "id": "bc7d922a-a56b-4841-b39d-ed983a3bef0b",
   "metadata": {},
   "source": [
    "### Above code is executed in vscode. no need to execute here."
   ]
  },
  {
   "cell_type": "code",
   "execution_count": null,
   "id": "9c3a6b3e-221f-4b6c-ab9c-3f93d389dd56",
   "metadata": {},
   "outputs": [],
   "source": []
  }
 ],
 "metadata": {
  "kernelspec": {
   "display_name": "Python 3 (ipykernel)",
   "language": "python",
   "name": "python3"
  },
  "language_info": {
   "codemirror_mode": {
    "name": "ipython",
    "version": 3
   },
   "file_extension": ".py",
   "mimetype": "text/x-python",
   "name": "python",
   "nbconvert_exporter": "python",
   "pygments_lexer": "ipython3",
   "version": "3.13.5"
  }
 },
 "nbformat": 4,
 "nbformat_minor": 5
}
