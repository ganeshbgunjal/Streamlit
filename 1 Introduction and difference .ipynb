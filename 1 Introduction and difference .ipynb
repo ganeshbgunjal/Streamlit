{
 "cells": [
  {
   "cell_type": "markdown",
   "id": "17238443-a0b1-4b31-9697-3da6a7bcfe67",
   "metadata": {},
   "source": [
    "### Difference between Flask and Streamlit:--"
   ]
  },
  {
   "cell_type": "markdown",
   "id": "119507f5-8a59-4dc9-a002-69a6bccca25d",
   "metadata": {},
   "source": [
    "🔹 Flask\n",
    "\n",
    "Type: Web framework (general-purpose, backend-focused).\n",
    "\n",
    "Use case: Build complete web applications (APIs, dashboards, websites).\n",
    "\n",
    "Coding style: You need to define routes (@app.route), handle HTTP methods (GET, POST), manage templates (HTML, CSS, JS).\n",
    "\n",
    "Flexibility: Very flexible — you can make anything, but you must code a lot (frontend + backend logic).\n",
    "\n",
    "Best for:\n",
    "\n",
    "Full web apps\n",
    "\n",
    "REST APIs\n",
    "\n",
    "Applications where you want total control over design"
   ]
  },
  {
   "cell_type": "markdown",
   "id": "f7e07695-2783-42b5-ae6e-7728972d9b7d",
   "metadata": {},
   "source": [
    "🔹 Streamlit\n",
    "\n",
    "Type: Data app framework (frontend + backend combined).\n",
    "\n",
    "Use case: Quickly build interactive data dashboards, ML model demos, visualizations.\n",
    "\n",
    "Coding style: Just write Python code (st.write(), st.line_chart(), st.button()). No need for HTML/CSS/JS.\n",
    "\n",
    "Flexibility: Limited compared to Flask — you can’t design a full website, but you can prototype apps in minutes.\n",
    "\n",
    "Best for:\n",
    "\n",
    "ML model deployment (quick demo)\n",
    "\n",
    "Data visualization apps\n",
    "\n",
    "Dashboards"
   ]
  },
  {
   "cell_type": "markdown",
   "id": "533cf241-014d-4b1d-a9c9-1733bc32e85b",
   "metadata": {},
   "source": [
    "## Streamlit:--"
   ]
  },
  {
   "cell_type": "markdown",
   "id": "3d82439c-6ebf-4b2c-8a46-6dd9550cff38",
   "metadata": {},
   "source": [
    "Its a open source app framework for ML and data science projects. It allows you to create beautiful web applications for your machine learning data science projects with simple python scripts. here you dont need HTML and CSS knowledge."
   ]
  },
  {
   "cell_type": "code",
   "execution_count": null,
   "id": "a03284f2-ed13-4464-ad8f-7e152cbedf4d",
   "metadata": {},
   "outputs": [],
   "source": []
  }
 ],
 "metadata": {
  "kernelspec": {
   "display_name": "Python 3 (ipykernel)",
   "language": "python",
   "name": "python3"
  },
  "language_info": {
   "codemirror_mode": {
    "name": "ipython",
    "version": 3
   },
   "file_extension": ".py",
   "mimetype": "text/x-python",
   "name": "python",
   "nbconvert_exporter": "python",
   "pygments_lexer": "ipython3",
   "version": "3.13.5"
  }
 },
 "nbformat": 4,
 "nbformat_minor": 5
}
